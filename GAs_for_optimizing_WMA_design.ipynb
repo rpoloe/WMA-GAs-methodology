{
  "nbformat": 4,
  "nbformat_minor": 0,
  "metadata": {
    "colab": {
      "name": "GAs_for_optimizing_WMA_design.ipynb",
      "provenance": [],
      "collapsed_sections": []
    },
    "kernelspec": {
      "display_name": "Python 3",
      "name": "python3"
    },
    "language_info": {
      "name": "python"
    }
  },
  "cells": [
    {
      "cell_type": "code",
      "metadata": {
        "id": "H67P6fkVShyf",
        "colab": {
          "base_uri": "https://localhost:8080/"
        },
        "outputId": "e5fc8e06-87d1-41f9-cc61-cb4ce8c7be93"
      },
      "source": [
        "import math\n",
        "import random\n",
        "import numpy as np\n",
        "import matplotlib.pyplot as plt\n",
        "!pip install deap\n",
        "from deap import base\n",
        "from deap import creator\n",
        "from deap import tools\n",
        "from deap import algorithms"
      ],
      "execution_count": 1,
      "outputs": [
        {
          "output_type": "stream",
          "name": "stdout",
          "text": [
            "Collecting deap\n",
            "  Downloading deap-1.3.1-cp37-cp37m-manylinux_2_5_x86_64.manylinux1_x86_64.manylinux_2_12_x86_64.manylinux2010_x86_64.whl (160 kB)\n",
            "\u001b[?25l\r\u001b[K     |██                              | 10 kB 18.8 MB/s eta 0:00:01\r\u001b[K     |████                            | 20 kB 22.7 MB/s eta 0:00:01\r\u001b[K     |██████                          | 30 kB 27.1 MB/s eta 0:00:01\r\u001b[K     |████████▏                       | 40 kB 23.3 MB/s eta 0:00:01\r\u001b[K     |██████████▏                     | 51 kB 9.9 MB/s eta 0:00:01\r\u001b[K     |████████████▏                   | 61 kB 11.1 MB/s eta 0:00:01\r\u001b[K     |██████████████▎                 | 71 kB 12.0 MB/s eta 0:00:01\r\u001b[K     |████████████████▎               | 81 kB 13.3 MB/s eta 0:00:01\r\u001b[K     |██████████████████▎             | 92 kB 13.7 MB/s eta 0:00:01\r\u001b[K     |████████████████████▍           | 102 kB 11.2 MB/s eta 0:00:01\r\u001b[K     |██████████████████████▍         | 112 kB 11.2 MB/s eta 0:00:01\r\u001b[K     |████████████████████████▍       | 122 kB 11.2 MB/s eta 0:00:01\r\u001b[K     |██████████████████████████▌     | 133 kB 11.2 MB/s eta 0:00:01\r\u001b[K     |████████████████████████████▌   | 143 kB 11.2 MB/s eta 0:00:01\r\u001b[K     |██████████████████████████████▌ | 153 kB 11.2 MB/s eta 0:00:01\r\u001b[K     |████████████████████████████████| 160 kB 11.2 MB/s \n",
            "\u001b[?25hRequirement already satisfied: numpy in /usr/local/lib/python3.7/dist-packages (from deap) (1.19.5)\n",
            "Installing collected packages: deap\n",
            "Successfully installed deap-1.3.1\n"
          ]
        }
      ]
    },
    {
      "cell_type": "code",
      "metadata": {
        "id": "YVBc4G_X05Ss"
      },
      "source": [
        "C1, C2, C3, C4, C5 = 0.74, 2.01, 0.74, 0.74, 2.09\n",
        "W1, W2, W3, W4 = 3, 0, 0, 3\n",
        "cw, Cvap, Lv, CL = 4.19, 1.83, 2256, 0.27\n",
        "\n",
        "cha_res = [ \n",
        "  [1450000, 17000, 31100, 369, 314, 366000, 467000, 177, 22, 509, 314, 31.1],\n",
        "  [19600, 36.7, 650, 7.59, 9.28, 4450, 17800, 2.74, 14.1, 7.07, 9.28, 0.29],\n",
        "  [9270, 17.9, 150, 3.11, 1.6, 249, 19500, 1.07, 6.67, 3.21, 1.6, 0.0513],\n",
        "  [2790000, 22200, 104000, 1340, 873, 508000, 4400000, 442, 118, 1110, 873, 95.3],\n",
        "  [1.47E-11, 0, 9.69E-13, 5.09E-15, 8.25E-15, 0, 2.02E-11, 5.15E-15, 1.38E-14, 8.44E-15, 8.25E-15, 9.38E-17],\n",
        "  [17800, 10.7, 226, 3.4, 2.94, 1750, 6400, 2.02, 12.5, 6.04, 2.94, 0.131],\n",
        "  [526, 2.35, 11.2, 0.131, 0.121, 93, 403, 0.0721, 0.384, 0.191, 0.121, 0.00923],\n",
        "  [20300000, 8270, 800000, 7130, 8760, 1360000, 25300000, 3180, 14400, 7470, 8760, 0.131],\n",
        "  [0, 0, 0, 0, 0, 0, 0, 0, 0, 0, 0, 0],\n",
        "  [42300, 42.9, 148, 2.27, 2.66, 7050, 925, 4.32, 30, 14.1, 2.66, 0.167],\n",
        "  [3.19, 9.19E-07, 0.00474, 0.00015, 0.000161, 0.000151, 0.0498, 0.000324, 0.00226, 0.00106, 0.000161, 125000],\n",
        "  [15300, 485, 261, 8.18, 3.62, 4010, 10100, 2.4, 11.7, 5.97, 3.62, 0.196],\n",
        "  [3470, 0, 1460, 5.83, 111, 0, 41700, 0, 0, 0, 111, 0.0398],\n",
        "]\n",
        "BEESweights = [5, 11, 5, 16, 16, 5.5, 6, 5.5, 11, 5, 5, 6, 3]\n",
        "\n",
        "user_Asphalt, Additive, user_mix_tem, to = 4.4, 0.3, 120, 25\n",
        "dNAs, dCR, dRAP, dRCA, dAB, dCA = 73, 73*2, 73*2, 73*2, 592, 248\n",
        "PCOST_NAs, PCOST_CR, PCOST_RAP, PCOST_RCA, PCOST_AB, PCOST_CA = 9.4, 9.4*2, 9.4*2, 9.4*2, 115, 150\n",
        "TCOST_NAs, TCOST_CR, TCOST_RAP, TCOST_RCA, TCOST_AB, TCOST_CA = 0.31, 0.31, 0.31, 0.31, 0.31, 0.31\n",
        "LHV, HFOPRICE = 42.18, 1.18"
      ],
      "execution_count": 2,
      "outputs": []
    },
    {
      "cell_type": "code",
      "metadata": {
        "id": "PI0M1l5EiTNC"
      },
      "source": [
        "asphalt_mass = 1*user_Asphalt/100\n",
        "additive_mass = asphalt_mass*Additive/100\n",
        "asphalt_mass = asphalt_mass + additive_mass\n",
        "NAs_mass = 1 - asphalt_mass\n",
        "TE = (((user_mix_tem-to)*(NAs_mass*C1 + asphalt_mass*C5)) + ((100-to)*(NAs_mass*W1*cw)) + ((user_mix_tem-100)*(NAs_mass*W1*Cvap)) + (Lv*NAs_mass*W1)) * (1+CL)\n",
        "\n",
        "max_env_imp = 0\n",
        "vector_max_env_imp = np.zeros(13, dtype=float)\n",
        "for i in range(0, 13):\n",
        "  FSC = (cha_res[i][0]+cha_res[i][1])*NAs_mass + cha_res[i][5]*asphalt_mass + cha_res[i][6]*additive_mass\n",
        "  SSC = cha_res[i][7]*NAs_mass*dNAs + cha_res[i][8]*asphalt_mass*dAB + cha_res[i][9]*additive_mass*dCA\n",
        "  TSC = cha_res[i][10]*NAs_mass + cha_res[i][11]*TE\n",
        "  vector_max_env_imp[i] = FSC + (2*SSC) + TSC\n",
        "  max_env_imp = max_env_imp + (vector_max_env_imp[i]*BEESweights[i]/100)\n",
        "max_env_imp = max_env_imp/1000000 #results_in_MegaPoints\n",
        "\n",
        "PC_term1 = NAs_mass*PCOST_NAs + asphalt_mass*PCOST_AB + additive_mass*PCOST_CA\n",
        "PC_term2 = NAs_mass*dNAs*TCOST_NAs + asphalt_mass*dAB*TCOST_AB + additive_mass*dCA*TCOST_CA\n",
        "PC_term3 = TE/LHV*HFOPRICE\n",
        "max_production_cost = PC_term1 + PC_term2 + PC_term3"
      ],
      "execution_count": 3,
      "outputs": []
    },
    {
      "cell_type": "code",
      "metadata": {
        "id": "CtiEkvFvS2wH"
      },
      "source": [
        "penalize = 10000\n",
        "vector_CR, vector_RAP, vector_RCA, vector_EI, vector_PC = [], [], [], [], []\n",
        "def funcion_objetivo(individual):\n",
        "  CR, RAP, RCA = individual[0], individual[1], individual[2]\n",
        "  if CR<0 or CR>6 or RAP<0 or RAP>30 or RCA<0 or RCA>45: \n",
        "    return penalize, penalize\n",
        "\n",
        "  if CR > 0:\n",
        "    mix_tem = user_mix_tem + 10\n",
        "  else:\n",
        "    mix_tem = user_mix_tem\n",
        "  asphalt_rap_correction = 63.854 - math.sqrt(4043.467+(26.738*RAP))\n",
        "  asphalt_rca_correction = 20.958 - math.sqrt(464.284-(10.225*RCA))\n",
        "  asphalt_correction = asphalt_rap_correction + asphalt_rca_correction\n",
        "  Asphalt = user_Asphalt*(1+asphalt_correction/100)\n",
        "  \n",
        "  asphalt_mass = 1*Asphalt/100\n",
        "  additive_mass = asphalt_mass*Additive/100\n",
        "  asphalt_mass = asphalt_mass + additive_mass\n",
        "  aggregate_mass = 1 - asphalt_mass\n",
        "  CR_mass = aggregate_mass*(0.5*CR/100)\n",
        "  RAP_mass = aggregate_mass*RAP/100\n",
        "  RCA_mass = aggregate_mass*(0.5*RCA/100)\n",
        "  NAs_mass = aggregate_mass - CR_mass - RAP_mass - RCA_mass\n",
        "\n",
        "  a = (mix_tem-to)*(NAs_mass*C1 + CR_mass*C2 + RAP_mass*C3 + RCA_mass*C4 + asphalt_mass*C5)\n",
        "  b = cw*(100-to)*(NAs_mass*W1 + CR_mass*W2 + RAP_mass*W3 + RCA_mass*W4)\n",
        "  c = Cvap*(mix_tem-100)*(NAs_mass*W1 + CR_mass*W2 + RAP_mass*W3 + RCA_mass*W4)\n",
        "  d = Lv * (NAs_mass*W1 + CR_mass*W2 + RAP_mass*W3 + RCA_mass*W4) \n",
        "  TE = (a+b+c+d)*(1+CL)\n",
        "\n",
        "  env_imp = 0\n",
        "  vector_env_imp = np.zeros(13, dtype=float)\n",
        "  for i in range(0, 13):\n",
        "    FSC = (cha_res[i][0]+cha_res[i][1])*NAs_mass + cha_res[i][2]*CR_mass + cha_res[i][3]*RAP_mass + cha_res[i][4]*RCA_mass + cha_res[i][5]*asphalt_mass + cha_res[i][6]*additive_mass\n",
        "    SSC = (cha_res[i][7]*(NAs_mass*dNAs+CR_mass*dCR+RAP_mass*dRAP+RCA_mass*dRCA)) + cha_res[i][8]*asphalt_mass*dAB + cha_res[i][9]*additive_mass*dCA\n",
        "    TSC = cha_res[i][10]*NAs_mass + cha_res[i][11]*TE\n",
        "    vector_env_imp[i] = FSC + (2*SSC) + TSC\n",
        "    env_imp = env_imp + (vector_env_imp[i]*BEESweights[i]/100)\n",
        "  env_imp = env_imp/1000000 #results_in_MegaPoints\n",
        "\n",
        "  PC_term1 = NAs_mass*PCOST_NAs + CR_mass*PCOST_CR + RAP_mass*PCOST_RAP + RCA_mass*PCOST_RCA + asphalt_mass*PCOST_AB + additive_mass*PCOST_CA\n",
        "  PC_term2 = NAs_mass*dNAs*TCOST_NAs + CR_mass*dCR*TCOST_CR + RAP_mass*dRAP*TCOST_RAP + RCA_mass*dRCA*TCOST_RCA + asphalt_mass*dAB*TCOST_AB + additive_mass*dCA*TCOST_CA\n",
        "  PC_term3 = TE/LHV*HFOPRICE\n",
        "  production_cost = PC_term1 + PC_term2 + PC_term3\n",
        "\n",
        "  if env_imp>max_env_imp or production_cost>max_production_cost:\n",
        "    return penalize, penalize\n",
        "\n",
        "  vector_CR.append(CR)\n",
        "  vector_RAP.append(RAP)\n",
        "  vector_RCA.append(RCA)\n",
        "  vector_EI.append(env_imp)\n",
        "  vector_PC.append(production_cost)\n",
        "  return env_imp, production_cost"
      ],
      "execution_count": 4,
      "outputs": []
    },
    {
      "cell_type": "code",
      "metadata": {
        "id": "GnxIH6-CRSCu",
        "colab": {
          "base_uri": "https://localhost:8080/",
          "height": 381
        },
        "outputId": "2454983b-6cae-427d-e6a8-000976db77ee"
      },
      "source": [
        "creator.create(\"FitnessMin\", base.Fitness, weights=(-1.0, -1.0))\n",
        "creator.create(\"Individual\", list, fitness=creator.FitnessMin)\n",
        "toolbox = base.Toolbox()\n",
        "toolbox.register(\"attr_CR\", random.uniform, 1, 6.01)\n",
        "toolbox.register(\"attr_RAP\", random.uniform, 1, 30.01)\n",
        "toolbox.register(\"attr_RCA\", random.uniform, 1, 45.01)\n",
        "toolbox.register(\"individual\", tools.initCycle, creator.Individual, (toolbox.attr_CR, toolbox.attr_RAP, toolbox.attr_RCA), n=1)\n",
        "toolbox.register(\"population\", tools.initRepeat, list, toolbox.individual, 400)\n",
        "toolbox.register(\"mate\", tools.cxOnePoint)\n",
        "toolbox.register(\"mutate\", tools.mutUniformInt, low=0, up=45, indpb=0.1)\n",
        "toolbox.register(\"select\", tools.selNSGA2)\n",
        "toolbox.register(\"evaluate\", funcion_objetivo)\n",
        "\n",
        "def main():\n",
        "  pop = toolbox.population()\n",
        "  stats = tools.Statistics(lambda ind: ind.fitness.values)\n",
        "  stats.register(\"avg\", np.mean)\n",
        "  stats.register(\"std\", np.std)\n",
        "  stats.register(\"min\", np.min)\n",
        "  stats.register(\"max\", np.max)\n",
        "  logbook = tools.Logbook()  \n",
        "  pareto = tools.ParetoFront() \n",
        "  pop, logbook = algorithms.eaSimple(pop, toolbox, cxpb=0.8, mutpb=0.2, ngen=80, stats=stats, halloffame=pareto, verbose=False)\n",
        "  return pop, logbook, pareto\n",
        "\n",
        "if __name__ == \"__main__\":    \n",
        "    pop, log, pareto = main()\n",
        "    res_individuos = open(\"final_individuals.txt\", \"w\")\n",
        "    res_fitness = open(\"fitness.txt\", \"w\")\n",
        "    for ind in pareto:\n",
        "        res_individuos.write(str(ind))\n",
        "        res_individuos.write(\"\\n\")\n",
        "        res_fitness.write(str(ind.fitness.values[0]))\n",
        "        res_fitness.write(\",\")\n",
        "        res_fitness.write(str(ind.fitness.values[1]))\n",
        "        res_fitness.write(\"\\n\")\n",
        "    res_fitness.close()\n",
        "    res_individuos.close()\n",
        "\n",
        "def plot_frente():\n",
        "  datos_pareto = np.loadtxt(\"fitness.txt\", delimiter=\",\")\n",
        "  plt.scatter(datos_pareto[: ,0], datos_pareto[: ,1], marker=\"*\", color=\"maroon\")\n",
        "  plt.plot(datos_pareto[: ,0], datos_pareto[: ,1], color=\"blue\")\n",
        "  plt.xlabel(\"Environmental Impact (MPt)\")\n",
        "  plt.ylabel(\"Total Cost ($)\")\n",
        "  plt.grid(True)\n",
        "  plt.xlim([np.amin(datos_pareto[: ,0]), np.amax(datos_pareto[: ,0])])\n",
        "  plt.ylim([np.amin(datos_pareto[: ,1]), np.amax(datos_pareto[: ,1])])\n",
        "  plt.legend([\"Pareto Front\"], loc=\"upper right\")\n",
        "  plt.savefig(\"Pareto_conjunto.eps\", dpi = 500)\n",
        "plot_frente()"
      ],
      "execution_count": 7,
      "outputs": [
        {
          "output_type": "stream",
          "name": "stderr",
          "text": [
            "/usr/local/lib/python3.7/dist-packages/deap/creator.py:141: RuntimeWarning: A class named 'FitnessMin' has already been created and it will be overwritten. Consider deleting previous creation of that class or rename it.\n",
            "  RuntimeWarning)\n",
            "/usr/local/lib/python3.7/dist-packages/deap/creator.py:141: RuntimeWarning: A class named 'Individual' has already been created and it will be overwritten. Consider deleting previous creation of that class or rename it.\n",
            "  RuntimeWarning)\n",
            "The PostScript backend does not support transparency; partially transparent artists will be rendered opaque.\n",
            "The PostScript backend does not support transparency; partially transparent artists will be rendered opaque.\n"
          ]
        },
        {
          "output_type": "display_data",
          "data": {
            "image/png": "[encoded data removed]",
            "text/plain": [
              "<Figure size 432x288 with 1 Axes>"
            ]
          },
          "metadata": {
            "needs_background": "light"
          }
        }
      ]
    }
  ]
}